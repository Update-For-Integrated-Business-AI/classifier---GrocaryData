{
 "cells": [
  {
   "cell_type": "code",
   "execution_count": 1,
   "id": "e76f9816",
   "metadata": {},
   "outputs": [],
   "source": [
    "import pandas as pd\n",
    "import numpy as np \n",
    "import matplotlib.pyplot as plt\n",
    "from sklearn.feature_extraction.text import TfidfVectorizer\n",
    "from sklearn.feature_selection import chi2\n",
    "from IPython.display import display\n",
    "from sklearn.model_selection import train_test_split\n",
    "from sklearn.feature_extraction.text import TfidfTransformer\n",
    "from sklearn.svm import LinearSVC\n",
    "from sklearn.model_selection import cross_val_score\n",
    "from sklearn.metrics import confusion_matrix, ConfusionMatrixDisplay\n",
    "from sklearn import metrics"
   ]
  },
  {
   "cell_type": "markdown",
   "id": "c1e2210f",
   "metadata": {},
   "source": [
    "# Data Exploraion & Engineering"
   ]
  },
  {
   "cell_type": "code",
   "execution_count": 2,
   "id": "576d3245",
   "metadata": {},
   "outputs": [
    {
     "data": {
      "text/html": [
       "<div>\n",
       "<style scoped>\n",
       "    .dataframe tbody tr th:only-of-type {\n",
       "        vertical-align: middle;\n",
       "    }\n",
       "\n",
       "    .dataframe tbody tr th {\n",
       "        vertical-align: top;\n",
       "    }\n",
       "\n",
       "    .dataframe thead th {\n",
       "        text-align: right;\n",
       "    }\n",
       "</style>\n",
       "<table border=\"1\" class=\"dataframe\">\n",
       "  <thead>\n",
       "    <tr style=\"text-align: right;\">\n",
       "      <th></th>\n",
       "      <th>itemName</th>\n",
       "      <th>category</th>\n",
       "    </tr>\n",
       "  </thead>\n",
       "  <tbody>\n",
       "    <tr>\n",
       "      <th>0</th>\n",
       "      <td>جبنة كيري مربعات - 12 قطعة</td>\n",
       "      <td>منتجات الألبان و البيض</td>\n",
       "    </tr>\n",
       "    <tr>\n",
       "      <th>1</th>\n",
       "      <td>لمار حليب كامل الدسم - 1 لتر</td>\n",
       "      <td>منتجات الألبان و البيض</td>\n",
       "    </tr>\n",
       "    <tr>\n",
       "      <th>2</th>\n",
       "      <td>جبنة رومي بطارخ</td>\n",
       "      <td>منتجات الألبان و البيض</td>\n",
       "    </tr>\n",
       "    <tr>\n",
       "      <th>3</th>\n",
       "      <td>جبنة فيتا بالزيتون دومتي - 1 كجم</td>\n",
       "      <td>الأطعمة المبردة</td>\n",
       "    </tr>\n",
       "    <tr>\n",
       "      <th>4</th>\n",
       "      <td>لبن المراعي كامل الدسم - 1 لتر</td>\n",
       "      <td>منتجات الألبان و البيض</td>\n",
       "    </tr>\n",
       "    <tr>\n",
       "      <th>...</th>\n",
       "      <td>...</td>\n",
       "      <td>...</td>\n",
       "    </tr>\n",
       "    <tr>\n",
       "      <th>12055</th>\n",
       "      <td>قطعة ريكفورد 100جم Danablu Cheese</td>\n",
       "      <td>منتجات الألبان و البيض</td>\n",
       "    </tr>\n",
       "    <tr>\n",
       "      <th>12056</th>\n",
       "      <td>صلصة طماطم درة &amp;#8211; 650جم</td>\n",
       "      <td>مكونات الطبخ</td>\n",
       "    </tr>\n",
       "    <tr>\n",
       "      <th>12057</th>\n",
       "      <td>زيت كريستال ذرة 2.2لتر</td>\n",
       "      <td>مكونات الطبخ</td>\n",
       "    </tr>\n",
       "    <tr>\n",
       "      <th>12058</th>\n",
       "      <td>ايس كريم كرنفاليتا فانيليا عائلى</td>\n",
       "      <td>ايس كريم وحلويات</td>\n",
       "    </tr>\n",
       "    <tr>\n",
       "      <th>12059</th>\n",
       "      <td>دقيق للكعك و البسكويت من دوبيللا &amp;#8211; 1 كجم</td>\n",
       "      <td>أطعمة عضوية وبدون جيلوتين</td>\n",
       "    </tr>\n",
       "  </tbody>\n",
       "</table>\n",
       "<p>12060 rows × 2 columns</p>\n",
       "</div>"
      ],
      "text/plain": [
       "                                             itemName  \\\n",
       "0                          جبنة كيري مربعات - 12 قطعة   \n",
       "1                        لمار حليب كامل الدسم - 1 لتر   \n",
       "2                                     جبنة رومي بطارخ   \n",
       "3                    جبنة فيتا بالزيتون دومتي - 1 كجم   \n",
       "4                      لبن المراعي كامل الدسم - 1 لتر   \n",
       "...                                               ...   \n",
       "12055               قطعة ريكفورد 100جم Danablu Cheese   \n",
       "12056                    صلصة طماطم درة &#8211; 650جم   \n",
       "12057                          زيت كريستال ذرة 2.2لتر   \n",
       "12058                ايس كريم كرنفاليتا فانيليا عائلى   \n",
       "12059  دقيق للكعك و البسكويت من دوبيللا &#8211; 1 كجم   \n",
       "\n",
       "                        category  \n",
       "0         منتجات الألبان و البيض  \n",
       "1         منتجات الألبان و البيض  \n",
       "2         منتجات الألبان و البيض  \n",
       "3                الأطعمة المبردة  \n",
       "4         منتجات الألبان و البيض  \n",
       "...                          ...  \n",
       "12055     منتجات الألبان و البيض  \n",
       "12056               مكونات الطبخ  \n",
       "12057               مكونات الطبخ  \n",
       "12058           ايس كريم وحلويات  \n",
       "12059  أطعمة عضوية وبدون جيلوتين  \n",
       "\n",
       "[12060 rows x 2 columns]"
      ]
     },
     "execution_count": 2,
     "metadata": {},
     "output_type": "execute_result"
    }
   ],
   "source": [
    "df = pd.read_excel(\"GrocaryItemsWithSubCategory.xlsx\")\n",
    "df"
   ]
  },
  {
   "cell_type": "code",
   "execution_count": 3,
   "id": "4ae682b1",
   "metadata": {},
   "outputs": [],
   "source": [
    "df.itemName= df.itemName.replace(r'\\r','', regex=True) \n",
    "df.itemName= df.itemName.replace(r'\\n','', regex=True)"
   ]
  },
  {
   "cell_type": "code",
   "execution_count": 4,
   "id": "5100b70e",
   "metadata": {},
   "outputs": [
    {
     "name": "stdout",
     "output_type": "stream",
     "text": [
      " number of elements in each class\n"
     ]
    },
    {
     "data": {
      "text/plain": [
       "category\n",
       "منتجات الأسماك المجمدة                     4\n",
       "مشروبات بودرة                             57\n",
       "منتجات العجين المجمدة                     65\n",
       "مشروبات الأطفال                           69\n",
       "ايس كريم وحلويات                          71\n",
       "السكر والمخبوزات المنزلية                 76\n",
       "التبغ                                     93\n",
       "الأطعمة المبردة                          107\n",
       "منتجات الدجاج المجمدة                    127\n",
       "المكسرات والتمر والفواكه المجففة         152\n",
       "الخضار المجمد                            159\n",
       "المياه                                   179\n",
       "شيبس ومقبلات                             210\n",
       "أطعمة عضوية وبدون جيلوتين                273\n",
       "منتجات اللحوم المجمدة                    279\n",
       "المعلبات والبرطمانات                     393\n",
       "الأرز والمكرونة والبقوليات والشعيرية     396\n",
       "حبوب وألواح الإفطار                      502\n",
       "مشروبات خفيفة                            665\n",
       "المربى والأطعمة السبريد والسيروب         689\n",
       "البسكويت والمقرمشات والكيك               715\n",
       "العصائر                                  727\n",
       "مكونات الطبخ                             797\n",
       "الشاي والقهوة                           1017\n",
       "المخبوزات                               1189\n",
       "منتجات الألبان و البيض                  1263\n",
       "الشوكولاتة والحلويات                    1786\n",
       "Name: category, dtype: int64"
      ]
     },
     "execution_count": 4,
     "metadata": {},
     "output_type": "execute_result"
    }
   ],
   "source": [
    "print(' number of elements in each class')\n",
    "df.groupby('category').category.count().sort_values()"
   ]
  },
  {
   "cell_type": "code",
   "execution_count": 5,
   "id": "0c6efd63",
   "metadata": {},
   "outputs": [
    {
     "name": "stdout",
     "output_type": "stream",
     "text": [
      "                                                itemName              category\n",
      "63                         بودينج شيكولاتة دانيت - 100جم  الشوكولاتة والحلويات\n",
      "82                          بودينج فانيليا دانيت - 100جم  الشوكولاتة والحلويات\n",
      "333                بار شوكولاتة كراميل من ميلكا - 100 جم  الشوكولاتة والحلويات\n",
      "364                شيكولاتة جالكسي - 36 جم - عبوة من 4+1  الشوكولاتة والحلويات\n",
      "372    شوكولاتة بابلي من كادبوري ديري ميلك، 28 جرام -...  الشوكولاتة والحلويات\n",
      "...                                                  ...                   ...\n",
      "11895                                  GINIS BISCUIT TEA  الشوكولاتة والحلويات\n",
      "11896                         RAZZ CUP CAKE CHOCOLATE 1P  الشوكولاتة والحلويات\n",
      "11950                    هولز &#8211; ليمون &#8211; 12 ق  الشوكولاتة والحلويات\n",
      "11968                       هاريبو جيلي شكل الدب | 17 جم  الشوكولاتة والحلويات\n",
      "12021                           جيلي كولا مستر جيلو بـ1ج  الشوكولاتة والحلويات\n",
      "\n",
      "[1786 rows x 2 columns]\n"
     ]
    },
    {
     "data": {
      "text/plain": [
       "(800, 2)"
      ]
     },
     "execution_count": 5,
     "metadata": {},
     "output_type": "execute_result"
    }
   ],
   "source": [
    "subCategory_0= df.loc[df['category'] == 'الشوكولاتة والحلويات']\n",
    "print(subCategory_0)\n",
    "subCategory_0= subCategory_0.sample(n = 800, replace = True)\n",
    "subCategory_0.shape"
   ]
  },
  {
   "cell_type": "code",
   "execution_count": 6,
   "id": "0ddab248",
   "metadata": {},
   "outputs": [
    {
     "name": "stdout",
     "output_type": "stream",
     "text": [
      "                                                itemName  \\\n",
      "0                             جبنة كيري مربعات - 12 قطعة   \n",
      "1                           لمار حليب كامل الدسم - 1 لتر   \n",
      "2                                        جبنة رومي بطارخ   \n",
      "4                         لبن المراعي كامل الدسم - 1 لتر   \n",
      "5              لبن لاكتيل كامل الدسم - 1 لتر - عبوة من 6   \n",
      "...                                                  ...   \n",
      "12034             جبنة بريزيدون فيتا جبن ابيض طري 500 جم   \n",
      "12038  ميكس جبن دومتي 300جرام ميكس موزاريلا وجودة و شيدر   \n",
      "12046                           موزاريلا الدمياطي 250 جم   \n",
      "12054             لاكتيل زبادي يوناني بالتشيز كيك 180 جم   \n",
      "12055                  قطعة ريكفورد 100جم Danablu Cheese   \n",
      "\n",
      "                     category  \n",
      "0      منتجات الألبان و البيض  \n",
      "1      منتجات الألبان و البيض  \n",
      "2      منتجات الألبان و البيض  \n",
      "4      منتجات الألبان و البيض  \n",
      "5      منتجات الألبان و البيض  \n",
      "...                       ...  \n",
      "12034  منتجات الألبان و البيض  \n",
      "12038  منتجات الألبان و البيض  \n",
      "12046  منتجات الألبان و البيض  \n",
      "12054  منتجات الألبان و البيض  \n",
      "12055  منتجات الألبان و البيض  \n",
      "\n",
      "[1263 rows x 2 columns]\n"
     ]
    },
    {
     "data": {
      "text/plain": [
       "(800, 2)"
      ]
     },
     "execution_count": 6,
     "metadata": {},
     "output_type": "execute_result"
    }
   ],
   "source": [
    "subCategory_1= df.loc[df['category'] == 'منتجات الألبان و البيض']\n",
    "print(subCategory_1)\n",
    "subCategory_1= subCategory_1.sample(n = 800, replace = True)\n",
    "subCategory_1.shape"
   ]
  },
  {
   "cell_type": "code",
   "execution_count": 7,
   "id": "ac88a727",
   "metadata": {},
   "outputs": [
    {
     "name": "stdout",
     "output_type": "stream",
     "text": [
      "                               itemName   category\n",
      "354                  كوكس فانيليا - 1جم  المخبوزات\n",
      "368              كوكس بيكنج بودر - 16جم  المخبوزات\n",
      "370       خميرة فورية جافة دريم - 11 جم  المخبوزات\n",
      "411                 دريم كيك شيف - 18جم  المخبوزات\n",
      "425                بقسماط الضحي - 300جم  المخبوزات\n",
      "...                                 ...        ...\n",
      "11880  توست مقرمش ريتش بيك سادة - 170جم  المخبوزات\n",
      "11881        بقسماط مطحون برانش - 250جم  المخبوزات\n",
      "11889            فوجتشا بالجبنه - 250جم  المخبوزات\n",
      "11890            فوجتشا بالزعتر - 250جم  المخبوزات\n",
      "11892      بقسماط اسبيشيال - باكيت كبير  المخبوزات\n",
      "\n",
      "[1189 rows x 2 columns]\n"
     ]
    },
    {
     "data": {
      "text/plain": [
       "(800, 2)"
      ]
     },
     "execution_count": 7,
     "metadata": {},
     "output_type": "execute_result"
    }
   ],
   "source": [
    "subCategory_2= df.loc[df['category'] == 'المخبوزات']\n",
    "print(subCategory_2)\n",
    "subCategory_2= subCategory_2.sample(n = 800, replace = True)\n",
    "subCategory_2.shape"
   ]
  },
  {
   "cell_type": "code",
   "execution_count": 8,
   "id": "21cf2a02",
   "metadata": {},
   "outputs": [
    {
     "name": "stdout",
     "output_type": "stream",
     "text": [
      "                                            itemName       category\n",
      "768                ويزرس اوريجينال بونبون كريمى 125ج  الشاي والقهوة\n",
      "1064              حلوي زبدة ويرثيرز أوريجينال - 50جم  الشاي والقهوة\n",
      "1233   برطمان نسكافيه كلاسيك سريع التحضير - 100 جرام  الشاي والقهوة\n",
      "1235     نسكافيه كلاسيك - قهوة فورية - عبوة 200 جرام  الشاي والقهوة\n",
      "1236     برطمان نسكافيه جولد سريع التحضير - 100 جرام  الشاي والقهوة\n",
      "...                                              ...            ...\n",
      "11992                           نسكافيه 3*1 شيكولاته  الشاي والقهوة\n",
      "11998                              شاي الكبوس 100 جم  الشاي والقهوة\n",
      "12024                               نسكافيه ميلك 3*1  الشاي والقهوة\n",
      "12025                 علبة نسكافيه ميلك 3*1 | 12 كيس  الشاي والقهوة\n",
      "12037                        علبة نسكافيه ريتش 21 جم  الشاي والقهوة\n",
      "\n",
      "[1017 rows x 2 columns]\n"
     ]
    },
    {
     "data": {
      "text/plain": [
       "(800, 2)"
      ]
     },
     "execution_count": 8,
     "metadata": {},
     "output_type": "execute_result"
    }
   ],
   "source": [
    "subCategory_3= df.loc[df['category'] == 'الشاي والقهوة']\n",
    "print(subCategory_3)\n",
    "subCategory_3= subCategory_3.sample(n = 800, replace = True)\n",
    "subCategory_3.shape"
   ]
  },
  {
   "cell_type": "code",
   "execution_count": 9,
   "id": "e0f08c3b",
   "metadata": {
    "scrolled": true
   },
   "outputs": [
    {
     "name": "stdout",
     "output_type": "stream",
     "text": [
      "category\n",
      "مشروبات خفيفة                       665\n",
      "المربى والأطعمة السبريد والسيروب    689\n",
      "البسكويت والمقرمشات والكيك          715\n",
      "العصائر                             727\n",
      "مكونات الطبخ                        797\n",
      "Name: category, dtype: int64\n",
      "(3593, 2)\n"
     ]
    }
   ],
   "source": [
    "#labels = df.category.unique()\n",
    "df = df[df.category != 'منتجات الأسماك المجمدة' ]\n",
    "df = df[df.category != 'مشروبات بودرة' ]\n",
    "df = df[df.category != 'منتجات العجين المجمدة' ]\n",
    "df = df[df.category != 'مشروبات الأطفال' ]\n",
    "df = df[df.category != 'ايس كريم وحلويات' ]\n",
    "df = df[df.category != 'السكر والمخبوزات المنزلية' ]\n",
    "df = df[df.category != 'التبغ' ]\n",
    "df = df[df.category != 'الأطعمة المبردة' ]\n",
    "df = df[df.category != 'منتجات الدجاج المجمدة' ]\n",
    "df = df[df.category != 'المكسرات والتمر والفواكه المجففة' ]\n",
    "df = df[df.category != 'الخضار المجمد' ]\n",
    "df = df[df.category != 'المياه' ]\n",
    "df = df[df.category != 'شيبس ومقبلات' ]\n",
    "df = df[df.category != 'أطعمة عضوية وبدون جيلوتين' ]\n",
    "df = df[df.category != 'منتجات اللحوم المجمدة' ]\n",
    "df = df[df.category != 'المعلبات والبرطمانات' ]\n",
    "df = df[df.category != 'الأرز والمكرونة والبقوليات والشعيرية' ]\n",
    "df = df[df.category != 'حبوب وألواح الإفطار' ]\n",
    "#df = df[df.category != 'مشروبات خفيفة' ]\n",
    "#df = df[df.category != 'المربى والأطعمة السبريد والسيروب' ]\n",
    "#df = df[df.category != 'البسكويت والمقرمشات والكيك' ]\n",
    "#df = df[df.category != 'العصائر' ]\n",
    "#df = df[df.category != 'مكونات الطبخ' ]\n",
    "df = df[df.category != 'الشاي والقهوة' ]\n",
    "df = df[df.category != 'المخبوزات' ]\n",
    "df = df[df.category != 'منتجات الألبان و البيض' ]\n",
    "df = df[df.category != 'الشوكولاتة والحلويات' ]\n",
    "print(df.groupby('category').category.count().sort_values())\n",
    "print(df.shape)"
   ]
  },
  {
   "cell_type": "code",
   "execution_count": 10,
   "id": "0718eb96",
   "metadata": {},
   "outputs": [],
   "source": [
    "df= df.append(subCategory_0)\n",
    "df= df.append(subCategory_1)\n",
    "df= df.append(subCategory_2)\n",
    "df= df.append(subCategory_3)"
   ]
  },
  {
   "cell_type": "code",
   "execution_count": 11,
   "id": "c03557d7",
   "metadata": {},
   "outputs": [
    {
     "name": "stdout",
     "output_type": "stream",
     "text": [
      " number of elements in each class\n"
     ]
    },
    {
     "data": {
      "text/plain": [
       "category\n",
       "مشروبات خفيفة                       665\n",
       "المربى والأطعمة السبريد والسيروب    689\n",
       "البسكويت والمقرمشات والكيك          715\n",
       "العصائر                             727\n",
       "مكونات الطبخ                        797\n",
       "الشاي والقهوة                       800\n",
       "الشوكولاتة والحلويات                800\n",
       "المخبوزات                           800\n",
       "منتجات الألبان و البيض              800\n",
       "Name: category, dtype: int64"
      ]
     },
     "execution_count": 11,
     "metadata": {},
     "output_type": "execute_result"
    }
   ],
   "source": [
    "print(' number of elements in each class')\n",
    "df.groupby('category').category.count().sort_values()"
   ]
  },
  {
   "cell_type": "code",
   "execution_count": 12,
   "id": "b032d43b",
   "metadata": {},
   "outputs": [
    {
     "data": {
      "text/plain": [
       "(6793, 2)"
      ]
     },
     "execution_count": 12,
     "metadata": {},
     "output_type": "execute_result"
    }
   ],
   "source": [
    "df.shape"
   ]
  },
  {
   "cell_type": "code",
   "execution_count": 13,
   "id": "3a7e9426",
   "metadata": {},
   "outputs": [],
   "source": [
    "df=df.sample(frac=1).reset_index(drop=True)"
   ]
  },
  {
   "cell_type": "code",
   "execution_count": 14,
   "id": "536cd6cf",
   "metadata": {},
   "outputs": [
    {
     "data": {
      "text/plain": [
       "(5872, 1)"
      ]
     },
     "execution_count": 14,
     "metadata": {},
     "output_type": "execute_result"
    }
   ],
   "source": [
    "pd.DataFrame(df.itemName.unique()).shape"
   ]
  },
  {
   "cell_type": "code",
   "execution_count": 15,
   "id": "f6196a0a",
   "metadata": {},
   "outputs": [
    {
     "data": {
      "text/plain": [
       "array([['العصائر'],\n",
       "       ['الشوكولاتة والحلويات'],\n",
       "       ['مكونات الطبخ'],\n",
       "       ['منتجات الألبان و البيض'],\n",
       "       ['المخبوزات'],\n",
       "       ['مشروبات خفيفة'],\n",
       "       ['المربى والأطعمة السبريد والسيروب'],\n",
       "       ['البسكويت والمقرمشات والكيك'],\n",
       "       ['الشاي والقهوة']], dtype=object)"
      ]
     },
     "execution_count": 15,
     "metadata": {},
     "output_type": "execute_result"
    }
   ],
   "source": [
    "pd.DataFrame(df.category.unique()).values"
   ]
  },
  {
   "cell_type": "code",
   "execution_count": 16,
   "id": "77a9124f",
   "metadata": {},
   "outputs": [
    {
     "data": {
      "text/plain": [
       "(9, 1)"
      ]
     },
     "execution_count": 16,
     "metadata": {},
     "output_type": "execute_result"
    }
   ],
   "source": [
    "pd.DataFrame(df.category.unique()).shape"
   ]
  },
  {
   "cell_type": "markdown",
   "id": "e8137d64",
   "metadata": {},
   "source": [
    "##### Create a new column 'category_id' with encoded categories "
   ]
  },
  {
   "cell_type": "code",
   "execution_count": 17,
   "id": "3d7d0475",
   "metadata": {},
   "outputs": [
    {
     "data": {
      "text/html": [
       "<div>\n",
       "<style scoped>\n",
       "    .dataframe tbody tr th:only-of-type {\n",
       "        vertical-align: middle;\n",
       "    }\n",
       "\n",
       "    .dataframe tbody tr th {\n",
       "        vertical-align: top;\n",
       "    }\n",
       "\n",
       "    .dataframe thead th {\n",
       "        text-align: right;\n",
       "    }\n",
       "</style>\n",
       "<table border=\"1\" class=\"dataframe\">\n",
       "  <thead>\n",
       "    <tr style=\"text-align: right;\">\n",
       "      <th></th>\n",
       "      <th>itemName</th>\n",
       "      <th>category</th>\n",
       "      <th>category_id</th>\n",
       "    </tr>\n",
       "  </thead>\n",
       "  <tbody>\n",
       "    <tr>\n",
       "      <th>0</th>\n",
       "      <td>بلندي عصير سينجل جوافه 250 مل</td>\n",
       "      <td>العصائر</td>\n",
       "      <td>0</td>\n",
       "    </tr>\n",
       "    <tr>\n",
       "      <th>1</th>\n",
       "      <td>شيكولاتة كورونا 1251 - 30جم</td>\n",
       "      <td>الشوكولاتة والحلويات</td>\n",
       "      <td>1</td>\n",
       "    </tr>\n",
       "    <tr>\n",
       "      <th>2</th>\n",
       "      <td>صوص سويت تشيلي زومرا - 740مل</td>\n",
       "      <td>مكونات الطبخ</td>\n",
       "      <td>2</td>\n",
       "    </tr>\n",
       "    <tr>\n",
       "      <th>3</th>\n",
       "      <td>جبنة مثلثات بريزيدون - 24 قطعة</td>\n",
       "      <td>منتجات الألبان و البيض</td>\n",
       "      <td>3</td>\n",
       "    </tr>\n",
       "    <tr>\n",
       "      <th>4</th>\n",
       "      <td>عسل نحل زهور زعتر من شانه - 450 جم</td>\n",
       "      <td>المخبوزات</td>\n",
       "      <td>4</td>\n",
       "    </tr>\n",
       "    <tr>\n",
       "      <th>5</th>\n",
       "      <td>مزارع دينا عصير مانجو فريش 850 مل</td>\n",
       "      <td>العصائر</td>\n",
       "      <td>0</td>\n",
       "    </tr>\n",
       "    <tr>\n",
       "      <th>6</th>\n",
       "      <td>سمن طبيعي هولندي ان زد 1600 جرام</td>\n",
       "      <td>مكونات الطبخ</td>\n",
       "      <td>2</td>\n",
       "    </tr>\n",
       "    <tr>\n",
       "      <th>7</th>\n",
       "      <td>صوص باربيكيو إم سي - 340جم</td>\n",
       "      <td>مكونات الطبخ</td>\n",
       "      <td>2</td>\n",
       "    </tr>\n",
       "    <tr>\n",
       "      <th>8</th>\n",
       "      <td>جبنة ريكفورد بالقشطة كليمنس</td>\n",
       "      <td>منتجات الألبان و البيض</td>\n",
       "      <td>3</td>\n",
       "    </tr>\n",
       "    <tr>\n",
       "      <th>9</th>\n",
       "      <td>العروبه بن محوج وسط توليفة العروبة 100 ج</td>\n",
       "      <td>مشروبات خفيفة</td>\n",
       "      <td>5</td>\n",
       "    </tr>\n",
       "    <tr>\n",
       "      <th>10</th>\n",
       "      <td>عسل نحل اسنبرق - 900 جم</td>\n",
       "      <td>المربى والأطعمة السبريد والسيروب</td>\n",
       "      <td>6</td>\n",
       "    </tr>\n",
       "    <tr>\n",
       "      <th>11</th>\n",
       "      <td>مكس مقرمشات بالتوابل الكورية 60 جم</td>\n",
       "      <td>البسكويت والمقرمشات والكيك</td>\n",
       "      <td>7</td>\n",
       "    </tr>\n",
       "    <tr>\n",
       "      <th>12</th>\n",
       "      <td>زبدة انكور غير مملحة - 400 جم</td>\n",
       "      <td>مكونات الطبخ</td>\n",
       "      <td>2</td>\n",
       "    </tr>\n",
       "    <tr>\n",
       "      <th>13</th>\n",
       "      <td>فيلارز شيكولاته بيضاء</td>\n",
       "      <td>الشوكولاتة والحلويات</td>\n",
       "      <td>1</td>\n",
       "    </tr>\n",
       "    <tr>\n",
       "      <th>14</th>\n",
       "      <td>جامييز مربى قرع وجزر وبرتقال 430 جم</td>\n",
       "      <td>المربى والأطعمة السبريد والسيروب</td>\n",
       "      <td>6</td>\n",
       "    </tr>\n",
       "    <tr>\n",
       "      <th>15</th>\n",
       "      <td>امريكان جاردن زبدة فول سودانى 340 جم</td>\n",
       "      <td>المربى والأطعمة السبريد والسيروب</td>\n",
       "      <td>6</td>\n",
       "    </tr>\n",
       "    <tr>\n",
       "      <th>16</th>\n",
       "      <td>مربي كريز احمر هيرو - 28.3 جم</td>\n",
       "      <td>المربى والأطعمة السبريد والسيروب</td>\n",
       "      <td>6</td>\n",
       "    </tr>\n",
       "    <tr>\n",
       "      <th>17</th>\n",
       "      <td>شيكولاتة توفيفي بالنوجا و الكراميل - 125جم</td>\n",
       "      <td>الشاي والقهوة</td>\n",
       "      <td>8</td>\n",
       "    </tr>\n",
       "    <tr>\n",
       "      <th>18</th>\n",
       "      <td>زبادي أكتيفيا 220 جم</td>\n",
       "      <td>منتجات الألبان و البيض</td>\n",
       "      <td>3</td>\n",
       "    </tr>\n",
       "    <tr>\n",
       "      <th>19</th>\n",
       "      <td>افيلار سكر دايت 100 كيس</td>\n",
       "      <td>المخبوزات</td>\n",
       "      <td>4</td>\n",
       "    </tr>\n",
       "  </tbody>\n",
       "</table>\n",
       "</div>"
      ],
      "text/plain": [
       "                                      itemName  \\\n",
       "0                بلندي عصير سينجل جوافه 250 مل   \n",
       "1                  شيكولاتة كورونا 1251 - 30جم   \n",
       "2                 صوص سويت تشيلي زومرا - 740مل   \n",
       "3               جبنة مثلثات بريزيدون - 24 قطعة   \n",
       "4           عسل نحل زهور زعتر من شانه - 450 جم   \n",
       "5            مزارع دينا عصير مانجو فريش 850 مل   \n",
       "6             سمن طبيعي هولندي ان زد 1600 جرام   \n",
       "7                   صوص باربيكيو إم سي - 340جم   \n",
       "8                  جبنة ريكفورد بالقشطة كليمنس   \n",
       "9     العروبه بن محوج وسط توليفة العروبة 100 ج   \n",
       "10                     عسل نحل اسنبرق - 900 جم   \n",
       "11          مكس مقرمشات بالتوابل الكورية 60 جم   \n",
       "12               زبدة انكور غير مملحة - 400 جم   \n",
       "13                       فيلارز شيكولاته بيضاء   \n",
       "14         جامييز مربى قرع وجزر وبرتقال 430 جم   \n",
       "15        امريكان جاردن زبدة فول سودانى 340 جم   \n",
       "16               مربي كريز احمر هيرو - 28.3 جم   \n",
       "17  شيكولاتة توفيفي بالنوجا و الكراميل - 125جم   \n",
       "18                        زبادي أكتيفيا 220 جم   \n",
       "19                     افيلار سكر دايت 100 كيس   \n",
       "\n",
       "                            category  category_id  \n",
       "0                            العصائر            0  \n",
       "1               الشوكولاتة والحلويات            1  \n",
       "2                       مكونات الطبخ            2  \n",
       "3             منتجات الألبان و البيض            3  \n",
       "4                          المخبوزات            4  \n",
       "5                            العصائر            0  \n",
       "6                       مكونات الطبخ            2  \n",
       "7                       مكونات الطبخ            2  \n",
       "8             منتجات الألبان و البيض            3  \n",
       "9                      مشروبات خفيفة            5  \n",
       "10  المربى والأطعمة السبريد والسيروب            6  \n",
       "11        البسكويت والمقرمشات والكيك            7  \n",
       "12                      مكونات الطبخ            2  \n",
       "13              الشوكولاتة والحلويات            1  \n",
       "14  المربى والأطعمة السبريد والسيروب            6  \n",
       "15  المربى والأطعمة السبريد والسيروب            6  \n",
       "16  المربى والأطعمة السبريد والسيروب            6  \n",
       "17                     الشاي والقهوة            8  \n",
       "18            منتجات الألبان و البيض            3  \n",
       "19                         المخبوزات            4  "
      ]
     },
     "execution_count": 17,
     "metadata": {},
     "output_type": "execute_result"
    }
   ],
   "source": [
    "\n",
    "df['category_id'] = (df['category'].factorize()[0])\n",
    "category_id_df = df[['itemName', 'category_id']].drop_duplicates()\n",
    "\n",
    "\n",
    "# Dictionaries for future use\n",
    "category_to_id = dict(category_id_df.values)\n",
    "id_to_category = dict(category_id_df[['category_id', 'itemName']].values)\n",
    "\n",
    "# New dataframe\n",
    "df.head(20)\n"
   ]
  },
  {
   "cell_type": "code",
   "execution_count": 18,
   "id": "6cff91a3",
   "metadata": {},
   "outputs": [
    {
     "name": "stdout",
     "output_type": "stream",
     "text": [
      "no. of categories:  9\n"
     ]
    }
   ],
   "source": [
    "print(\"no. of categories: \", pd.DataFrame(df.category_id.unique()).shape[0])"
   ]
  },
  {
   "cell_type": "code",
   "execution_count": 19,
   "id": "64408851",
   "metadata": {},
   "outputs": [
    {
     "data": {
      "image/png": "[encoded data removed]",
      "text/plain": [
       "<Figure size 576x360 with 1 Axes>"
      ]
     },
     "metadata": {
      "needs_background": "light"
     },
     "output_type": "display_data"
    }
   ],
   "source": [
    "fig = plt.figure(figsize=(8,5))\n",
    "colors = ['darkblue']\n",
    "df.groupby('category').category.count().sort_values().plot.barh(\n",
    "    ylim=0, color=colors, title= 'PRODUCT CATEGORY\\n')\n",
    "plt.xlabel('Number of ocurrences', fontsize = 10);"
   ]
  },
  {
   "cell_type": "code",
   "execution_count": 20,
   "id": "7cc1a83a",
   "metadata": {},
   "outputs": [
    {
     "name": "stdout",
     "output_type": "stream",
     "text": [
      "[False]\n"
     ]
    }
   ],
   "source": [
    "print(df.itemName.isna().unique())"
   ]
  },
  {
   "cell_type": "markdown",
   "id": "f1fae766",
   "metadata": {},
   "source": [
    "# Model pipeline"
   ]
  },
  {
   "cell_type": "code",
   "execution_count": 21,
   "id": "085fd036",
   "metadata": {},
   "outputs": [
    {
     "name": "stdout",
     "output_type": "stream",
     "text": [
      "model score:  0.8954857703631011\n"
     ]
    }
   ],
   "source": [
    "from sklearn import svm\n",
    "from sklearn.pipeline import Pipeline\n",
    "from sklearn.metrics import classification_report\n",
    "\n",
    "X = df['itemName'] \n",
    "y = df['category'] # Target or the labels \n",
    "\n",
    "\n",
    "X_train, X_test, y_train, y_test = train_test_split(X, y,  test_size=0.3, random_state = 0, stratify=y)\n",
    "\n",
    "bow_pipeline = Pipeline(\n",
    "    steps=[\n",
    "        (\"tfidf\", TfidfVectorizer()),\n",
    "        (\"classifier\", svm.SVC(kernel='linear',probability=True)),\n",
    "    ]\n",
    ")\n",
    "bow_pipeline.fit(X_train, y_train)\n",
    "y_pred = bow_pipeline.predict(X_test)\n",
    "print(\"model score: \", bow_pipeline.score(X_test, y_test))"
   ]
  },
  {
   "cell_type": "markdown",
   "id": "b29bcbc3",
   "metadata": {},
   "source": [
    "##### classification report"
   ]
  },
  {
   "cell_type": "code",
   "execution_count": 22,
   "id": "471b7669",
   "metadata": {},
   "outputs": [
    {
     "name": "stdout",
     "output_type": "stream",
     "text": [
      "                                  precision    recall  f1-score   support\n",
      "\n",
      "      البسكويت والمقرمشات والكيك       0.89      0.88      0.88       215\n",
      "                   الشاي والقهوة       0.90      0.89      0.90       240\n",
      "            الشوكولاتة والحلويات       0.84      0.92      0.88       240\n",
      "                         العصائر       0.93      0.94      0.94       218\n",
      "                       المخبوزات       0.85      0.78      0.81       240\n",
      "المربى والأطعمة السبريد والسيروب       0.87      0.94      0.90       207\n",
      "                   مشروبات خفيفة       0.89      0.83      0.86       199\n",
      "                    مكونات الطبخ       0.94      0.92      0.93       239\n",
      "          منتجات الألبان و البيض       0.95      0.95      0.95       240\n",
      "\n",
      "                        accuracy                           0.90      2038\n",
      "                       macro avg       0.90      0.90      0.89      2038\n",
      "                    weighted avg       0.90      0.90      0.90      2038\n",
      "\n"
     ]
    }
   ],
   "source": [
    "cr = classification_report(y_test, y_pred)\n",
    "\n",
    "print(cr)"
   ]
  },
  {
   "cell_type": "markdown",
   "id": "58bee2e5",
   "metadata": {},
   "source": [
    "##### confusion matrix"
   ]
  },
  {
   "cell_type": "code",
   "execution_count": 23,
   "id": "8f998b6e",
   "metadata": {},
   "outputs": [
    {
     "data": {
      "text/plain": [
       "<sklearn.metrics._plot.confusion_matrix.ConfusionMatrixDisplay at 0x21a22f62d88>"
      ]
     },
     "execution_count": 23,
     "metadata": {},
     "output_type": "execute_result"
    },
    {
     "data": {
      "image/png": "[encoded data removed]",
      "text/plain": [
       "<Figure size 1440x1440 with 2 Axes>"
      ]
     },
     "metadata": {
      "needs_background": "light"
     },
     "output_type": "display_data"
    }
   ],
   "source": [
    "cm = confusion_matrix(y_test, bow_pipeline.predict(X_test), labels=bow_pipeline.classes_)\n",
    "disp = ConfusionMatrixDisplay(confusion_matrix=cm, display_labels=bow_pipeline.classes_)\n",
    "fig, ax = plt.subplots(figsize=(20,20))\n",
    "disp.plot(ax=ax)"
   ]
  },
  {
   "cell_type": "markdown",
   "id": "7fb2a13d",
   "metadata": {},
   "source": [
    "# Model Prediction"
   ]
  },
  {
   "cell_type": "code",
   "execution_count": 24,
   "id": "0dfa6261",
   "metadata": {},
   "outputs": [
    {
     "name": "stdout",
     "output_type": "stream",
     "text": [
      "640                        شاي اخضر سيكم بريميم - 25 فتلة\n",
      "3155              الرشيدى الميزان حلاوة بالبندق، 300 جرام\n",
      "896            نستله نسكافيه كابتشينو بالكراميل , 17 جرام\n",
      "837                         ماك فيتس بسكويت دايجستف 250جم\n",
      "4945               باربيكان شراب شعير 250 مللي كانز انواع\n",
      "1384                       بيتى تروبيكانا عصير رمان 1 لتر\n",
      "3137                           شاي تتلي اسود مركز 50 فتله\n",
      "589     ويفر شوكولاتة نستله كيت كات كوكي مقرمش، 19.5 ج...\n",
      "2177             كريمة لوتس البسكويت بسكوف الناعمة 400 جم\n",
      "177        Happy Day Sweetened Condensed Milk - 397 grams\n",
      "Name: itemName, dtype: object\n",
      "------------------\n",
      "640                        الشاي والقهوة\n",
      "3155    المربى والأطعمة السبريد والسيروب\n",
      "896                        الشاي والقهوة\n",
      "837                 الشوكولاتة والحلويات\n",
      "4945                       مشروبات خفيفة\n",
      "1384                             العصائر\n",
      "3137                       الشاي والقهوة\n",
      "589                 الشوكولاتة والحلويات\n",
      "2177                الشوكولاتة والحلويات\n",
      "177               منتجات الألبان و البيض\n",
      "Name: category, dtype: object\n",
      "------------------\n",
      "['الشاي والقهوة' 'المربى والأطعمة السبريد والسيروب' 'الشاي والقهوة'\n",
      " 'الشوكولاتة والحلويات' 'مشروبات خفيفة' 'العصائر' 'الشاي والقهوة'\n",
      " 'الشوكولاتة والحلويات' 'الشوكولاتة والحلويات' 'منتجات الألبان و البيض']\n"
     ]
    }
   ],
   "source": [
    "print(X_test[0:10])\n",
    "print(\"------------------\")\n",
    "print(y_test[0:10])\n",
    "print(\"------------------\")\n",
    "print(bow_pipeline.predict(X_test)[0:10])"
   ]
  },
  {
   "cell_type": "code",
   "execution_count": 25,
   "id": "c72a8c9a",
   "metadata": {},
   "outputs": [],
   "source": [
    "f1=open(\"pred_cat11.csv\", \"a+\",  encoding = 'utf-8-sig')\n",
    "\n",
    "for i, element in enumerate(X_test):\n",
    "    predicted_cat= bow_pipeline.predict([element])\n",
    "    f1.write(\"%s,\" % element)\n",
    "    f1.write(\"%s,\" % predicted_cat)\n",
    "    f1.write(\"\\n\")\n",
    "    \n",
    "\n",
    "    \n",
    "for i in y_test:     \n",
    "    f1.write(\",,%s\" % i)\n",
    "    f1.write(\"\\n\")\n",
    "\n",
    "f1.close()"
   ]
  },
  {
   "cell_type": "code",
   "execution_count": 26,
   "id": "9c9bef17",
   "metadata": {},
   "outputs": [],
   "source": [
    "import pickle\n",
    "# save the model to disk\n",
    "filename = 'finalized_model.sav'\n",
    "pickle.dump(bow_pipeline, open(filename, 'wb'))\n",
    " \n"
   ]
  },
  {
   "cell_type": "code",
   "execution_count": 27,
   "id": "49c46730",
   "metadata": {},
   "outputs": [],
   "source": [
    "# load the model from disk\n",
    "loaded_model = pickle.load(open(filename, 'rb'))"
   ]
  },
  {
   "cell_type": "code",
   "execution_count": null,
   "id": "cf96c3c1",
   "metadata": {},
   "outputs": [],
   "source": []
  }
 ],
 "metadata": {
  "kernelspec": {
   "display_name": "Python 3 (ipykernel)",
   "language": "python",
   "name": "python3"
  },
  "language_info": {
   "codemirror_mode": {
    "name": "ipython",
    "version": 3
   },
   "file_extension": ".py",
   "mimetype": "text/x-python",
   "name": "python",
   "nbconvert_exporter": "python",
   "pygments_lexer": "ipython3",
   "version": "3.7.6"
  }
 },
 "nbformat": 4,
 "nbformat_minor": 5
}
